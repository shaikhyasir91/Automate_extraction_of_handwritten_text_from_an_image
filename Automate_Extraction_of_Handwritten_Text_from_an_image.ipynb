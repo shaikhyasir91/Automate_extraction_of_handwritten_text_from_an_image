{
  "nbformat": 4,
  "nbformat_minor": 0,
  "metadata": {
    "colab": {
      "provenance": []
    },
    "kernelspec": {
      "name": "python3",
      "display_name": "Python 3"
    },
    "language_info": {
      "name": "python"
    }
  },
  "cells": [
    {
      "cell_type": "code",
      "source": [
        "# from zipfile import ZipFile\n",
        "# file_name = '/content/IAM_dataset.zip'\n",
        "# with ZipFile(file_name,'r') as zip:\n",
        "#   zip.extractall('/content/drive/MyDrive/Datasets')\n",
        "#   print('Done')\n"
      ],
      "metadata": {
        "id": "PFgebHfDRo7O"
      },
      "execution_count": 1,
      "outputs": []
    },
    {
      "cell_type": "code",
      "execution_count": 2,
      "metadata": {
        "id": "_Ot2uYHeGC04"
      },
      "outputs": [],
      "source": [
        "import numpy as np\n",
        "import os\n",
        "import glob\n",
        "\n",
        "from random import *\n",
        "from PIL import Image\n",
        "from tensorflow.keras.utils import to_categorical\n",
        "from sklearn.preprocessing import LabelEncoder\n",
        "from sklearn.model_selection import train_test_split\n",
        "import matplotlib.pyplot as plt\n",
        "import pandas as pd\n",
        "import matplotlib.image as mpimg\n",
        "# %matplotlib inline\n",
        "\n",
        "from keras.models import Sequential\n",
        "from keras.layers import Dense, Dropout, Flatten, Lambda, ELU, Activation, BatchNormalization\n",
        "from keras.layers import Convolution2D, Cropping2D, ZeroPadding2D, MaxPooling2D\n",
        "from keras.preprocessing.image import ImageDataGenerator\n",
        "from tensorflow.keras.optimizers import SGD, Adam, RMSprop"
      ]
    },
    {
      "cell_type": "code",
      "source": [
        "d = {}\n",
        "from subprocess import check_output\n",
        "with open('/content/drive/MyDrive/Datasets/RIO_HandWrittenTextExtraction/RIO_HandWrittenTextExtraction/FormsIAMSmall.txt') as f:\n",
        "    for line in f:\n",
        "        key = line.split(' ')[0]\n",
        "        writer = line.split(' ')[1]\n",
        "        d[key] = writer\n",
        "print(len(d.keys()))"
      ],
      "metadata": {
        "colab": {
          "base_uri": "https://localhost:8080/"
        },
        "id": "6hvjV638GPu4",
        "outputId": "d7362076-341d-4969-d9cf-add4b3089632"
      },
      "execution_count": 3,
      "outputs": [
        {
          "output_type": "stream",
          "name": "stdout",
          "text": [
            "66\n"
          ]
        }
      ]
    },
    {
      "cell_type": "code",
      "source": [
        "tmp = []\n",
        "target_list = []\n",
        "tempDict = {}\n",
        "tempDict = d.copy()\n",
        "print(tempDict)\n",
        "path_to_files = os.path.join('/content/drive/MyDrive/Datasets/RIO_HandWrittenTextExtraction/RIO_HandWrittenTextExtraction/DataIAMFormSmall', '*')\n",
        "for filename in sorted(glob.glob(path_to_files)):\n",
        "#     print(filename)\n",
        "    tmp.append(filename)\n",
        "    image_name = filename.split('/')[-1]\n",
        "    #print(image_name)\n",
        "    file, ext = os.path.splitext(image_name)\n",
        "    parts = file.split('-')\n",
        "    form = parts[0] + '-' + parts[1]\n",
        "    #print(\"Form Image :: \", form)\n",
        "    tempDict = d.copy()\n",
        "    for key in d.keys():\n",
        "        if key == form:\n",
        "            val = tempDict.get(key)\n",
        "            if val:\n",
        "               #print(\"Form mapped with key :: \", key, \" :: \", str(val))\n",
        "               target_list.append(str(val))\n",
        "               del tempDict[key]"
      ],
      "metadata": {
        "colab": {
          "base_uri": "https://localhost:8080/"
        },
        "id": "-2hlqDriGYkd",
        "outputId": "88d3b575-fb72-449c-bc71-cdfb5c1522a8"
      },
      "execution_count": 4,
      "outputs": [
        {
          "output_type": "stream",
          "name": "stdout",
          "text": [
            "{'a01-000u': '000', 'a01-000x': '001', 'a01-003': '002', 'a01-003u': '000', 'a01-003x': '003', 'a01-007': '004', 'a01-007u': '000', 'a01-007x': '003', 'a01-011': '005', 'a01-011u': '000', 'a01-011x': '006', 'a01-014': '007', 'a01-014u': '000', 'a01-014x': '008', 'a01-020': '009', 'a01-020u': '000', 'a01-020x': '010', 'a01-026': '009', 'a01-026u': '000', 'a01-026x': '008', 'a01-030': '005', 'a01-030u': '000', 'a01-030x': '010', 'a01-038': '007', 'a01-038x': '011', 'a01-043': '012', 'a01-043u': '000', 'a01-043x': '011', 'a01-049': '012', 'a01-049u': '000', 'a01-049x': '000', 'a01-053': '013', 'a01-053u': '000', 'a01-053x': '014', 'a01-058': '013', 'a01-058u': '000', 'a01-058x': '014', 'a01-063': '013', 'a01-063u': '000', 'a01-063x': '015', 'a01-068u': '000', 'a01-072u': '000', 'a01-072x': '001', 'a01-077': '016', 'a01-077u': '000', 'a01-082u': '000', 'a01-087': '017', 'a01-087u': '000', 'a01-091': '016', 'a01-091u': '000', 'a01-096u': '000', 'a01-102': '016', 'a01-102u': '000', 'a01-107': '018', 'a01-107u': '000', 'a01-113': '018', 'a01-113u': '000', 'a01-117': '019', 'a01-117u': '000', 'a01-122': '019', 'a01-122u': '000', 'a01-128': '019', 'a01-128u': '000', 'a01-132': '020', 'a01-132u': '000', 'a01-132x': '000'}\n"
          ]
        }
      ]
    },
    {
      "cell_type": "code",
      "source": [
        "img_files = np.asarray(tmp)\n",
        "img_targets = np.asarray(target_list)\n",
        "#print(img_targets)\n",
        "#print(img_files)\n",
        "print(img_files.shape)\n",
        "print(img_targets.shape)"
      ],
      "metadata": {
        "colab": {
          "base_uri": "https://localhost:8080/"
        },
        "id": "nZUpglO_GxfI",
        "outputId": "3404191f-3535-4d4a-fe92-d2bcfb491510"
      },
      "execution_count": 5,
      "outputs": [
        {
          "output_type": "stream",
          "name": "stdout",
          "text": [
            "(354,)\n",
            "(354,)\n"
          ]
        }
      ]
    },
    {
      "cell_type": "code",
      "source": [
        "for filename in img_files[:3]:\n",
        "    img=mpimg.imread(filename)\n",
        "    plt.figure(figsize=(10,10))\n",
        "    plt.imshow(img, cmap ='gray')"
      ],
      "metadata": {
        "colab": {
          "base_uri": "https://localhost:8080/",
          "height": 289
        },
        "id": "mPKAk-M_HPKg",
        "outputId": "0736afd6-7344-41dc-a0fc-90d3f539d9ea"
      },
      "execution_count": 6,
      "outputs": [
        {
          "output_type": "display_data",
          "data": {
            "text/plain": [
              "<Figure size 1000x1000 with 1 Axes>"
            ],
            "image/png": "[encoded data removed]"
          },
          "metadata": {}
        },
        {
          "output_type": "display_data",
          "data": {
            "text/plain": [
              "<Figure size 1000x1000 with 1 Axes>"
            ],
            "image/png": "[encoded data removed]"
          },
          "metadata": {}
        },
        {
          "output_type": "display_data",
          "data": {
            "text/plain": [
              "<Figure size 1000x1000 with 1 Axes>"
            ],
            "image/png": "[encoded data removed]"
          },
          "metadata": {}
        }
      ]
    },
    {
      "cell_type": "code",
      "source": [
        "encoder = LabelEncoder()\n",
        "encoder.fit(img_targets)\n",
        "encoded_Y = encoder.transform(img_targets)\n",
        "\n",
        "print(img_files[:10], img_targets[:10], encoded_Y[:10])"
      ],
      "metadata": {
        "colab": {
          "base_uri": "https://localhost:8080/"
        },
        "id": "v0UzFj4MHRhS",
        "outputId": "7c36dca0-8f40-4ee9-8933-1baeb2d62eca"
      },
      "execution_count": 7,
      "outputs": [
        {
          "output_type": "stream",
          "name": "stdout",
          "text": [
            "['/content/drive/MyDrive/Datasets/RIO_HandWrittenTextExtraction/RIO_HandWrittenTextExtraction/DataIAMFormSmall/a01-000u-s00-00.png'\n",
            " '/content/drive/MyDrive/Datasets/RIO_HandWrittenTextExtraction/RIO_HandWrittenTextExtraction/DataIAMFormSmall/a01-000u-s00-01.png'\n",
            " '/content/drive/MyDrive/Datasets/RIO_HandWrittenTextExtraction/RIO_HandWrittenTextExtraction/DataIAMFormSmall/a01-000u-s00-02.png'\n",
            " '/content/drive/MyDrive/Datasets/RIO_HandWrittenTextExtraction/RIO_HandWrittenTextExtraction/DataIAMFormSmall/a01-000u-s00-03.png'\n",
            " '/content/drive/MyDrive/Datasets/RIO_HandWrittenTextExtraction/RIO_HandWrittenTextExtraction/DataIAMFormSmall/a01-000u-s01-00.png'\n",
            " '/content/drive/MyDrive/Datasets/RIO_HandWrittenTextExtraction/RIO_HandWrittenTextExtraction/DataIAMFormSmall/a01-000u-s01-01.png'\n",
            " '/content/drive/MyDrive/Datasets/RIO_HandWrittenTextExtraction/RIO_HandWrittenTextExtraction/DataIAMFormSmall/a01-000u-s01-02.png'\n",
            " '/content/drive/MyDrive/Datasets/RIO_HandWrittenTextExtraction/RIO_HandWrittenTextExtraction/DataIAMFormSmall/a01-000u-s01-03.png'\n",
            " '/content/drive/MyDrive/Datasets/RIO_HandWrittenTextExtraction/RIO_HandWrittenTextExtraction/DataIAMFormSmall/a01-003u-s00-00.png'\n",
            " '/content/drive/MyDrive/Datasets/RIO_HandWrittenTextExtraction/RIO_HandWrittenTextExtraction/DataIAMFormSmall/a01-003u-s00-01.png'] ['000' '000' '000' '000' '000' '000' '000' '000' '000' '000'] [0 0 0 0 0 0 0 0 0 0]\n"
          ]
        }
      ]
    },
    {
      "cell_type": "code",
      "source": [
        "train_files, rem_files, train_targets, rem_targets = train_test_split(\n",
        "        img_files, encoded_Y, train_size=0.66, random_state=52, shuffle= True)\n",
        "\n",
        "validation_files, test_files, validation_targets, test_targets = train_test_split(\n",
        "        rem_files, rem_targets, train_size=0.5, random_state=22, shuffle=True)\n",
        "\n",
        "print(train_files.shape, validation_files.shape, test_files.shape)\n",
        "print(train_targets.shape, validation_targets.shape, test_targets.shape)"
      ],
      "metadata": {
        "colab": {
          "base_uri": "https://localhost:8080/"
        },
        "id": "4HLf-AYGHU9o",
        "outputId": "945fd5fe-c887-407b-ad01-3e5c801800b1"
      },
      "execution_count": 8,
      "outputs": [
        {
          "output_type": "stream",
          "name": "stdout",
          "text": [
            "(233,) (60,) (61,)\n",
            "(233,) (60,) (61,)\n"
          ]
        }
      ]
    },
    {
      "cell_type": "code",
      "source": [
        "batch_size = 8\n",
        "num_classes = 7\n",
        "\n",
        "def generate_data(samples, target_files,  batch_size=batch_size, factor = 0.1 ):\n",
        "    num_samples = len(samples)\n",
        "    from sklearn.utils import shuffle\n",
        "    while 1: # Loop forever so the generator never terminates\n",
        "        for offset in range(0, num_samples, batch_size):\n",
        "            batch_samples = samples[offset:offset+batch_size]\n",
        "            batch_targets = target_files[offset:offset+batch_size]\n",
        "\n",
        "            images = []\n",
        "            targets = []\n",
        "            for i in range(len(batch_samples)):\n",
        "                batch_sample = batch_samples[i]\n",
        "                batch_target = batch_targets[i]\n",
        "                im = Image.open(batch_sample)\n",
        "                cur_width = im.size[0]\n",
        "                cur_height = im.size[1]\n",
        "\n",
        "                # print(cur_width, cur_height)\n",
        "                height_fac = 113 / cur_height\n",
        "\n",
        "                new_width = int(cur_width * height_fac)\n",
        "                size = new_width, 113\n",
        "\n",
        "                imresize = im.resize((size), Image.ANTIALIAS)  # Resize so height = 113 while keeping aspect ratio\n",
        "                now_width = imresize.size[0]\n",
        "                now_height = imresize.size[1]\n",
        "                # Generate crops of size 113x113 from this resized image and keep random 10% of crops\n",
        "\n",
        "                avail_x_points = list(range(0, now_width - 113 ))# total x start points are from 0 to width -113\n",
        "\n",
        "                # Pick random x%\n",
        "                pick_num = int(len(avail_x_points)*factor)\n",
        "\n",
        "                # Now pick\n",
        "                random_startx = sample(avail_x_points,  pick_num)\n",
        "\n",
        "                for start in random_startx:\n",
        "                    imcrop = imresize.crop((start, 0, start+113, 113))\n",
        "                    images.append(np.asarray(imcrop))\n",
        "                    targets.append(batch_target)\n",
        "\n",
        "\n",
        "            X_train = np.array(images)\n",
        "            y_train = np.array(targets)\n",
        "\n",
        "            #reshape X_train for feeding in later\n",
        "            X_train = X_train.reshape(X_train.shape[0], 113, 113, 1)\n",
        "            #convert to float and normalize\n",
        "            X_train = X_train.astype('float32')\n",
        "            X_train /= 255\n",
        "\n",
        "            #One hot encode y\n",
        "            y_train = to_categorical(y_train, num_classes)\n",
        "\n",
        "            yield shuffle(X_train, y_train)\n",
        "\n",
        "# For training and testing, generator function is called with the intent of making train and test generator data.\n",
        "train_generator = generate_data(train_files, train_targets, batch_size=batch_size, factor = 0.3)\n",
        "validation_generator = generate_data(validation_files, validation_targets, batch_size=batch_size, factor = 0.3)\n",
        "test_generator = generate_data(test_files, test_targets, batch_size=batch_size, factor = 0.1)\n"
      ],
      "metadata": {
        "id": "c8-bCObMHeHx"
      },
      "execution_count": 9,
      "outputs": []
    },
    {
      "cell_type": "code",
      "source": [
        "def resize_image(image):\n",
        "    import tensorflow as tf\n",
        "    return tf.image.resize(image,[56,56])\n",
        "\n",
        "# Function to resize image to 64x64\n",
        "row, col, ch = 113, 113, 1"
      ],
      "metadata": {
        "id": "KjR5SNbPHpPe"
      },
      "execution_count": 10,
      "outputs": []
    },
    {
      "cell_type": "code",
      "source": [
        "model = Sequential()\n",
        "model.add(ZeroPadding2D((1, 1), input_shape=(row, col, ch)))\n",
        "\n",
        "# Resise data within the neural network\n",
        "model.add(Lambda(resize_image))  #resize images to allow for easy computation\n",
        "#model.add(Lambda(lambda x: resize_image))\n",
        "\n",
        "# CNN model - Building the model suggested in paper\n",
        "\n",
        "model.add(Convolution2D(filters= 32, kernel_size =(5,5), strides= (2,2), padding='same', name='conv1')) #96\n",
        "model.add(Activation('relu'))\n",
        "model.add(MaxPooling2D(pool_size=(2,2),strides=(2,2), name='pool1'))\n",
        "\n",
        "model.add(Convolution2D(filters= 64, kernel_size =(3,3), strides= (1,1), padding='same', name='conv2'))  #256\n",
        "model.add(Activation('relu'))\n",
        "model.add(MaxPooling2D(pool_size=(2,2),strides=(2,2), name='pool2'))\n",
        "\n",
        "model.add(Convolution2D(filters=128, kernel_size =(3,3), strides= (1,1), padding='same', name='conv3'))  #256\n",
        "model.add(Activation('relu'))\n",
        "model.add(MaxPooling2D(pool_size=(2,2),strides=(2,2), name='pool3'))\n",
        "\n",
        "\n",
        "model.add(Flatten())\n",
        "model.add(Dropout(0.5))\n",
        "\n",
        "model.add(Dense(128, name='dense1'))  #1024\n",
        "# model.add(BatchNormalization())\n",
        "model.add(Activation('relu'))\n",
        "model.add(Dropout(0.5))\n",
        "\n",
        "model.add(Dense(64, name='dense2'))  #1024\n",
        "model.add(Activation('relu'))\n",
        "model.add(Dropout(0.5))\n",
        "\n",
        "model.add(Dense(num_classes,name='output'))\n",
        "model.add(Activation('softmax'))  #softmax since output is within 50 classes\n",
        "print(\"Worked till here\")\n",
        "\n",
        "model.compile(loss='categorical_crossentropy', optimizer=Adam(), metrics=['accuracy'])\n",
        "\n",
        "print(model.summary())\n"
      ],
      "metadata": {
        "colab": {
          "base_uri": "https://localhost:8080/"
        },
        "id": "43CoSBk0Hs7A",
        "outputId": "427e1fc7-e390-4fc4-9246-cc22c8f80613"
      },
      "execution_count": 11,
      "outputs": [
        {
          "output_type": "stream",
          "name": "stdout",
          "text": [
            "Worked till here\n",
            "Model: \"sequential\"\n",
            "_________________________________________________________________\n",
            " Layer (type)                Output Shape              Param #   \n",
            "=================================================================\n",
            " zero_padding2d (ZeroPaddin  (None, 115, 115, 1)       0         \n",
            " g2D)                                                            \n",
            "                                                                 \n",
            " lambda (Lambda)             (None, 56, 56, 1)         0         \n",
            "                                                                 \n",
            " conv1 (Conv2D)              (None, 28, 28, 32)        832       \n",
            "                                                                 \n",
            " activation (Activation)     (None, 28, 28, 32)        0         \n",
            "                                                                 \n",
            " pool1 (MaxPooling2D)        (None, 14, 14, 32)        0         \n",
            "                                                                 \n",
            " conv2 (Conv2D)              (None, 14, 14, 64)        18496     \n",
            "                                                                 \n",
            " activation_1 (Activation)   (None, 14, 14, 64)        0         \n",
            "                                                                 \n",
            " pool2 (MaxPooling2D)        (None, 7, 7, 64)          0         \n",
            "                                                                 \n",
            " conv3 (Conv2D)              (None, 7, 7, 128)         73856     \n",
            "                                                                 \n",
            " activation_2 (Activation)   (None, 7, 7, 128)         0         \n",
            "                                                                 \n",
            " pool3 (MaxPooling2D)        (None, 3, 3, 128)         0         \n",
            "                                                                 \n",
            " flatten (Flatten)           (None, 1152)              0         \n",
            "                                                                 \n",
            " dropout (Dropout)           (None, 1152)              0         \n",
            "                                                                 \n",
            " dense1 (Dense)              (None, 128)               147584    \n",
            "                                                                 \n",
            " activation_3 (Activation)   (None, 128)               0         \n",
            "                                                                 \n",
            " dropout_1 (Dropout)         (None, 128)               0         \n",
            "                                                                 \n",
            " dense2 (Dense)              (None, 64)                8256      \n",
            "                                                                 \n",
            " activation_4 (Activation)   (None, 64)                0         \n",
            "                                                                 \n",
            " dropout_2 (Dropout)         (None, 64)                0         \n",
            "                                                                 \n",
            " output (Dense)              (None, 7)                 455       \n",
            "                                                                 \n",
            " activation_5 (Activation)   (None, 7)                 0         \n",
            "                                                                 \n",
            "=================================================================\n",
            "Total params: 249479 (974.53 KB)\n",
            "Trainable params: 249479 (974.53 KB)\n",
            "Non-trainable params: 0 (0.00 Byte)\n",
            "_________________________________________________________________\n",
            "None\n"
          ]
        }
      ]
    },
    {
      "cell_type": "code",
      "source": [
        "nb_epoch = 2\n",
        "samples_per_epoch = 233\n",
        "nb_val_samples = 62\n",
        "\n",
        "from keras.callbacks import ModelCheckpoint\n",
        "filepath=\"model-{epoch:02d}-{val_loss:.4f}.hdf5\"\n",
        "checkpoint = ModelCheckpoint(filepath= filepath, verbose=1, save_best_only=False)\n",
        "callbacks_list = [checkpoint]\n"
      ],
      "metadata": {
        "id": "VtRB0Mg5Hx5r"
      },
      "execution_count": 12,
      "outputs": []
    },
    {
      "cell_type": "code",
      "source": [
        "history_object = model.fit(train_generator,\n",
        "                                     steps_per_epoch=samples_per_epoch,\n",
        "                                      validation_data=validation_generator,\n",
        "                                      validation_steps=nb_val_samples,\n",
        "                                     epochs=nb_epoch, verbose=1,\n",
        "                                     callbacks=callbacks_list)"
      ],
      "metadata": {
        "colab": {
          "base_uri": "https://localhost:8080/"
        },
        "id": "DpEgUiyvH6Y_",
        "outputId": "217f5a20-bb43-4405-967d-3e627f78db34"
      },
      "execution_count": 13,
      "outputs": [
        {
          "output_type": "stream",
          "name": "stderr",
          "text": [
            "<ipython-input-9-85e4dd8b5f32>:27: DeprecationWarning: ANTIALIAS is deprecated and will be removed in Pillow 10 (2023-07-01). Use LANCZOS or Resampling.LANCZOS instead.\n",
            "  imresize = im.resize((size), Image.ANTIALIAS)  # Resize so height = 113 while keeping aspect ratio\n"
          ]
        },
        {
          "output_type": "stream",
          "name": "stdout",
          "text": [
            "Epoch 1/2\n",
            "233/233 [==============================] - ETA: 0s - loss: 0.0395 - accuracy: 0.9882\n",
            "Epoch 1: saving model to model-01-0.0000.hdf5\n",
            "233/233 [==============================] - 1360s 6s/step - loss: 0.0395 - accuracy: 0.9882 - val_loss: 0.0000e+00 - val_accuracy: 1.0000\n",
            "Epoch 2/2\n"
          ]
        },
        {
          "output_type": "stream",
          "name": "stderr",
          "text": [
            "/usr/local/lib/python3.10/dist-packages/keras/src/engine/training.py:3079: UserWarning: You are saving your model as an HDF5 file via `model.save()`. This file format is considered legacy. We recommend using instead the native Keras format, e.g. `model.save('my_model.keras')`.\n",
            "  saving_api.save_model(\n"
          ]
        },
        {
          "output_type": "stream",
          "name": "stdout",
          "text": [
            "233/233 [==============================] - ETA: 0s - loss: 9.8301e-05 - accuracy: 1.0000\n",
            "Epoch 2: saving model to model-02-0.0000.hdf5\n",
            "233/233 [==============================] - 1389s 6s/step - loss: 9.8301e-05 - accuracy: 1.0000 - val_loss: 0.0000e+00 - val_accuracy: 1.0000\n"
          ]
        }
      ]
    },
    {
      "cell_type": "code",
      "source": [
        "model.load_weights('/content/model-02-0.0000.hdf5')\n",
        "scores = model.evaluate_generator(test_generator,121) # 121 is the number of test images.\n",
        "print(\"Accuracy = \", scores[1] , \" ::\" , len(scores))"
      ],
      "metadata": {
        "colab": {
          "base_uri": "https://localhost:8080/"
        },
        "id": "aHhRsYHRIIeY",
        "outputId": "c28e08bf-6480-4aa0-b637-df2d083bfb4c"
      },
      "execution_count": 15,
      "outputs": [
        {
          "output_type": "stream",
          "name": "stderr",
          "text": [
            "<ipython-input-15-f0eeab50d00f>:2: UserWarning: `Model.evaluate_generator` is deprecated and will be removed in a future version. Please use `Model.evaluate`, which supports generators.\n",
            "  scores = model.evaluate_generator(test_generator,121) # 121 is the number of test images.\n",
            "<ipython-input-9-85e4dd8b5f32>:27: DeprecationWarning: ANTIALIAS is deprecated and will be removed in Pillow 10 (2023-07-01). Use LANCZOS or Resampling.LANCZOS instead.\n",
            "  imresize = im.resize((size), Image.ANTIALIAS)  # Resize so height = 113 while keeping aspect ratio\n"
          ]
        },
        {
          "output_type": "stream",
          "name": "stdout",
          "text": [
            "Accuracy =  1.0  :: 2\n"
          ]
        }
      ]
    },
    {
      "cell_type": "code",
      "source": [
        "images = []\n",
        "for filename in test_files[:50]:\n",
        "     im = Image.open(filename)\n",
        "\n",
        "     cur_width = im.size[0]\n",
        "     cur_height = im.size[1]\n",
        "\n",
        "     print(\"Before Crop:\", cur_width, cur_height)\n",
        "     height_fac = 113 / cur_height\n",
        "\n",
        "     new_width = int(cur_width * height_fac)\n",
        "     size = new_width, 113\n",
        "\n",
        "     imresize = im.resize((size), Image.ANTIALIAS)  # Resize so height = 113 while keeping aspect ratio\n",
        "     now_width = imresize.size[0]\n",
        "     now_height = imresize.size[1]\n",
        "     print(\"After Crop:\", now_width, now_height)\n",
        "#     # Generate crops of size 113x113 from this resized image and keep random 10% of crops\n",
        "\n",
        "     avail_x_points = list(range(0, now_width - 113 ))# total x start points are from 0 to width -113\n",
        "\n",
        "#     # Pick random x%\n",
        "     factor = 0.1\n",
        "     pick_num = int(len(avail_x_points)*factor)\n",
        "     print(\"Pick Number is ::\", pick_num)\n",
        "\n",
        "     random_startx = sample(avail_x_points,  pick_num)\n",
        "\n",
        "     for start in random_startx:\n",
        "         imcrop = imresize.crop((start, 0, start+113, 113))\n",
        "         images.append(np.asarray(imcrop))\n",
        "\n",
        "     X_test = np.array(images)\n",
        "\n",
        "     X_test = X_test.reshape(X_test.shape[0], 113, 113, 1)\n",
        "#     #convert to float and normalize\n",
        "     X_test = X_test.astype('float32')\n",
        "     X_test /= 255\n",
        "     shuffle(X_test)\n",
        "\n",
        "print(X_test.shape)"
      ],
      "metadata": {
        "colab": {
          "base_uri": "https://localhost:8080/"
        },
        "id": "P1gFdVOiUp2j",
        "outputId": "f358f446-1f1c-406a-cea7-781c1895b782"
      },
      "execution_count": 16,
      "outputs": [
        {
          "output_type": "stream",
          "name": "stdout",
          "text": [
            "Before Crop: 1989 96\n",
            "After Crop: 2341 113\n",
            "Pick Number is :: 222\n",
            "Before Crop: 1718 85\n",
            "After Crop: 2283 113\n",
            "Pick Number is :: 217\n",
            "Before Crop: 1875 92\n",
            "After Crop: 2302 113\n",
            "Pick Number is :: 218\n",
            "Before Crop: 1966 88\n",
            "After Crop: 2524 113\n",
            "Pick Number is :: 241\n",
            "Before Crop: 1205 78\n",
            "After Crop: 1745 113\n",
            "Pick Number is :: 163\n",
            "Before Crop: 1878 81\n",
            "After Crop: 2619 113\n",
            "Pick Number is :: 250\n",
            "Before Crop: 319 "
          ]
        },
        {
          "output_type": "stream",
          "name": "stderr",
          "text": [
            "<ipython-input-16-0693d3005e2f>:14: DeprecationWarning: ANTIALIAS is deprecated and will be removed in Pillow 10 (2023-07-01). Use LANCZOS or Resampling.LANCZOS instead.\n",
            "  imresize = im.resize((size), Image.ANTIALIAS)  # Resize so height = 113 while keeping aspect ratio\n"
          ]
        },
        {
          "output_type": "stream",
          "name": "stdout",
          "text": [
            "54\n",
            "After Crop: 667 113\n",
            "Pick Number is :: 55\n",
            "Before Crop: 2070 112\n",
            "After Crop: 2088 113\n",
            "Pick Number is :: 197\n",
            "Before Crop: 1886 106\n",
            "After Crop: 2010 113\n",
            "Pick Number is :: 189\n",
            "Before Crop: 1990 86\n",
            "After Crop: 2614 113\n",
            "Pick Number is :: 250\n",
            "Before Crop: 1815 73\n",
            "After Crop: 2809 113\n",
            "Pick Number is :: 269\n",
            "Before Crop: 1818 104\n",
            "After Crop: 1975 113\n",
            "Pick Number is :: 186\n",
            "Before Crop: 1741 77\n",
            "After Crop: 2554 113\n",
            "Pick Number is :: 244\n",
            "Before Crop: 475 62\n",
            "After Crop: 865 113\n",
            "Pick Number is :: 75\n",
            "Before Crop: 1106 69\n",
            "After Crop: 1811 113\n",
            "Pick Number is :: 169\n",
            "Before Crop: 449 66\n",
            "After Crop: 768 113\n",
            "Pick Number is :: 65\n",
            "Before Crop: 1759 75\n",
            "After Crop: 2650 113\n",
            "Pick Number is :: 253\n",
            "Before Crop: 1768 78\n",
            "After Crop: 2561 113\n",
            "Pick Number is :: 244\n",
            "Before Crop: 1868 79\n",
            "After Crop: 2671 113\n",
            "Pick Number is :: 255\n",
            "Before Crop: 1044 68\n",
            "After Crop: 1734 113\n",
            "Pick Number is :: 162\n",
            "Before Crop: 1885 98\n",
            "After Crop: 2173 113\n",
            "Pick Number is :: 206\n",
            "Before Crop: 1850 105\n",
            "After Crop: 1990 113\n",
            "Pick Number is :: 187\n",
            "Before Crop: 610 52\n",
            "After Crop: 1325 113\n",
            "Pick Number is :: 121\n",
            "Before Crop: 1935 76\n",
            "After Crop: 2877 113\n",
            "Pick Number is :: 276\n",
            "Before Crop: 1993 89\n",
            "After Crop: 2530 113\n",
            "Pick Number is :: 241\n",
            "Before Crop: 806 84\n",
            "After Crop: 1084 113\n",
            "Pick Number is :: 97\n",
            "Before Crop: 1956 84\n",
            "After Crop: 2631 113\n",
            "Pick Number is :: 251\n",
            "Before Crop: 1037 83\n",
            "After Crop: 1411 113\n",
            "Pick Number is :: 129\n",
            "Before Crop: 1617 82\n",
            "After Crop: 2228 113\n",
            "Pick Number is :: 211\n",
            "Before Crop: 1932 78\n",
            "After Crop: 2798 113\n",
            "Pick Number is :: 268\n",
            "Before Crop: 1968 68\n",
            "After Crop: 3270 113\n",
            "Pick Number is :: 315\n",
            "Before Crop: 1830 61\n",
            "After Crop: 3390 113\n",
            "Pick Number is :: 327\n",
            "Before Crop: 1922 73\n",
            "After Crop: 2975 113\n",
            "Pick Number is :: 286\n",
            "Before Crop: 606 67\n",
            "After Crop: 1022 113\n",
            "Pick Number is :: 90\n",
            "Before Crop: 1375 70\n",
            "After Crop: 2219 113\n",
            "Pick Number is :: 210\n",
            "Before Crop: 1912 74\n",
            "After Crop: 2919 113\n",
            "Pick Number is :: 280\n",
            "Before Crop: 1847 77\n",
            "After Crop: 2710 113\n",
            "Pick Number is :: 259\n",
            "Before Crop: 644 61\n",
            "After Crop: 1192 113\n",
            "Pick Number is :: 107\n",
            "Before Crop: 289 90\n",
            "After Crop: 362 113\n",
            "Pick Number is :: 24\n",
            "Before Crop: 565 79\n",
            "After Crop: 808 113\n",
            "Pick Number is :: 69\n",
            "Before Crop: 850 72\n",
            "After Crop: 1334 113\n",
            "Pick Number is :: 122\n",
            "Before Crop: 1861 78\n",
            "After Crop: 2696 113\n",
            "Pick Number is :: 258\n",
            "Before Crop: 1421 59\n",
            "After Crop: 2721 113\n",
            "Pick Number is :: 260\n",
            "Before Crop: 1544 87\n",
            "After Crop: 2005 113\n",
            "Pick Number is :: 189\n",
            "Before Crop: 2019 97\n",
            "After Crop: 2352 113\n",
            "Pick Number is :: 223\n",
            "Before Crop: 113 56\n",
            "After Crop: 228 113\n",
            "Pick Number is :: 11\n",
            "Before Crop: 1772 89\n",
            "After Crop: 2249 113\n",
            "Pick Number is :: 213\n",
            "Before Crop: 1937 111\n",
            "After Crop: 1971 113\n",
            "Pick Number is :: 185\n",
            "Before Crop: 881 75\n",
            "After Crop: 1327 113\n",
            "Pick Number is :: 121\n",
            "Before Crop: 1060 61\n",
            "After Crop: 1963 113\n",
            "Pick Number is :: 185\n",
            "(9645, 113, 113, 1)\n"
          ]
        }
      ]
    },
    {
      "cell_type": "code",
      "source": [
        "predictions = model.predict(X_test, verbose =1)\n",
        "\n",
        "print(predictions.shape)\n",
        "predicted_writer = []\n",
        "for pred in predictions:\n",
        "     predicted_writer.append(np.argmax(pred))\n",
        "print(len(predicted_writer))"
      ],
      "metadata": {
        "colab": {
          "base_uri": "https://localhost:8080/"
        },
        "id": "N_xtAfIjUzQL",
        "outputId": "df236765-e49c-416f-96d7-27745d4bd956"
      },
      "execution_count": 17,
      "outputs": [
        {
          "output_type": "stream",
          "name": "stdout",
          "text": [
            "302/302 [==============================] - 4s 14ms/step\n",
            "(9645, 7)\n",
            "9645\n"
          ]
        }
      ]
    },
    {
      "cell_type": "code",
      "source": [
        "writer_number = 18\n",
        "total_images =10\n",
        "counter = 0\n",
        "for i in range(len(predicted_writer)//10):\n",
        "    # print(\"okay1\" + \" \" +  str(predicted_writer[i]) )\n",
        "     if predicted_writer[i] == writer_number:\n",
        "         image = X_test[i].squeeze()\n",
        "         plt.figure(figsize=(2,2))\n",
        "         plt.imshow(image, cmap ='gray')\n",
        "\n",
        "image1 = X_test[1].squeeze()\n",
        "\n",
        "plt.figure(figsize=(2,2))\n",
        "plt.imshow(image1, cmap ='gray')\n"
      ],
      "metadata": {
        "colab": {
          "base_uri": "https://localhost:8080/",
          "height": 236
        },
        "id": "v1vaMSW8U5Z6",
        "outputId": "aba26bee-d8ee-4490-f482-cc975a572359"
      },
      "execution_count": 24,
      "outputs": [
        {
          "output_type": "execute_result",
          "data": {
            "text/plain": [
              "<matplotlib.image.AxesImage at 0x7e7a30414700>"
            ]
          },
          "metadata": {},
          "execution_count": 24
        },
        {
          "output_type": "display_data",
          "data": {
            "text/plain": [
              "<Figure size 200x200 with 1 Axes>"
            ],
            "image/png": "[encoded data removed]"
          },
          "metadata": {}
        }
      ]
    },
    {
      "cell_type": "code",
      "source": [],
      "metadata": {
        "id": "FTrdYuMQg-L0"
      },
      "execution_count": null,
      "outputs": []
    }
  ]
}